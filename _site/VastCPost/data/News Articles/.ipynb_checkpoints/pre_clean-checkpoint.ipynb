{
 "cells": [
  {
   "cell_type": "code",
   "execution_count": 40,
   "id": "91e87d48",
   "metadata": {},
   "outputs": [],
   "source": [
    "import pandas as pd\n",
    "import numpy as np\n",
    "import os\n",
    "import codecs"
   ]
  },
  {
   "cell_type": "code",
   "execution_count": 3,
   "id": "6aaa393f",
   "metadata": {},
   "outputs": [],
   "source": [
    "folders=[]\n",
    "for name in os.listdir('.'):\n",
    "    folders.append(name)"
   ]
  },
  {
   "cell_type": "code",
   "execution_count": 57,
   "id": "669da9a7",
   "metadata": {},
   "outputs": [],
   "source": [
    "keyword=[\"SOURCE\", \"TITLE\", \"PUBLISHED\", \"NOTE\", \"TEXT\", \"LOCATION\"]\n",
    "\n",
    "     "
   ]
  },
  {
   "cell_type": "code",
   "execution_count": 55,
   "id": "bbf8b94f",
   "metadata": {},
   "outputs": [],
   "source": [
    "def parse(textfile):\n",
    "    with codecs.open(textfile, 'r', encoding='utf-8', errors='ignore') as in_file:\n",
    "        temp = list(line for line in (f.strip() for f in in_file) if line)\n",
    "                \n",
    "    index=[]\n",
    "    for i in range(len(temp)):\n",
    "        for word in keyword:        \n",
    "            if word in temp[i]:\n",
    "                index.append(i)          \n",
    "                break\n",
    "    \n",
    "    \n",
    "    temp.insert(max(index)+1, \"TEXT:\")\n",
    "    new=temp[:max(index)+1]\n",
    "    new.append(\" \".join(temp[max(index)+1:]))\n",
    "            \n",
    "    with open(textfile, \"w\") as out_file:\n",
    "        out_file.write(\"\\n\".join(new))    "
   ]
  },
  {
   "cell_type": "code",
   "execution_count": 80,
   "id": "b72d0fcb",
   "metadata": {},
   "outputs": [],
   "source": [
    "for folder in folders:\n",
    "    for name in os.listdir(folder):\n",
    "        if name != \".DS_Store\":\n",
    "            parse(folder+'/'+name)\n",
    "        "
   ]
  },
  {
   "cell_type": "code",
   "execution_count": 42,
   "id": "c4255121",
   "metadata": {},
   "outputs": [
    {
     "name": "stdout",
     "output_type": "stream",
     "text": [
      "[0, 1, 2] 4\n"
     ]
    }
   ],
   "source": [
    "with codecs.open(\"The Wrap/448.txt\", 'r', encoding='utf-8', errors='ignore') as in_file:\n",
    "    temp = list(line for line in (f.strip() for f in in_file) if line)\n",
    "                \n",
    "index=[]\n",
    "for i in range(len(temp)):\n",
    "    for word in keyword:        \n",
    "        if word in temp[i]:\n",
    "            index.append(i)          \n",
    "            break\n",
    "                \n",
    "temp.insert(max(index)+1, \"TEXT:\")\n",
    "new=temp[:max(index)+1]\n",
    "new.append(\" \".join(temp[max(index)+1:]))\n",
    "\n",
    "with open(\"The Wrap/814.txt\", \"w\") as out_file:\n",
    "    out_file.write(\"\\n\".join(new)) "
   ]
  },
  {
   "cell_type": "code",
   "execution_count": null,
   "id": "51d3ced0",
   "metadata": {},
   "outputs": [],
   "source": []
  }
 ],
 "metadata": {
  "kernelspec": {
   "display_name": "Python 3",
   "language": "python",
   "name": "python3"
  },
  "language_info": {
   "codemirror_mode": {
    "name": "ipython",
    "version": 3
   },
   "file_extension": ".py",
   "mimetype": "text/x-python",
   "name": "python",
   "nbconvert_exporter": "python",
   "pygments_lexer": "ipython3",
   "version": "3.8.2"
  }
 },
 "nbformat": 4,
 "nbformat_minor": 5
}
